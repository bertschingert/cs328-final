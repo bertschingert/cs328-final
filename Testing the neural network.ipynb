{
 "cells": [
  {
   "cell_type": "code",
   "execution_count": 7,
   "metadata": {
    "collapsed": false
   },
   "outputs": [],
   "source": [
    "import neural_net as nn\n",
    "import numpy as np"
   ]
  },
  {
   "cell_type": "code",
   "execution_count": 11,
   "metadata": {
    "collapsed": false
   },
   "outputs": [
    {
     "name": "stdout",
     "output_type": "stream",
     "text": [
      "[array([[ 0.55839958,  0.26537899],\n",
      "       [ 0.89846976,  0.59569232]]), array([[ 0.4651578,  0.0223405]])]\n"
     ]
    }
   ],
   "source": [
    "weights = nn.initialize_network(2, 1, 2, 2)\n",
    "print(weights)\n",
    "# print(np.array(weights))"
   ]
  },
  {
   "cell_type": "markdown",
   "metadata": {
    "collapsed": true
   },
   "source": [
    "Testing the neural network on the harmonic information."
   ]
  },
  {
   "cell_type": "code",
   "execution_count": null,
   "metadata": {
    "collapsed": true
   },
   "outputs": [],
   "source": [
    "h_data = []\n",
    "\n",
    "instrs = [\"guitar\", \"clarinet\", \"flute\", \"saxophone\", \"violin\"]\n",
    "ind = 0\n",
    "for instr in instrs:\n",
    "    h_data.append([])\n",
    "    infile = open(\"reps/\" + instr + \"_harmonics.txt\", 'r')\n",
    "    for line in infile:\n",
    "        ex = []\n",
    "        for i in line.split(','):\n",
    "            ex.append( float(i.strip()) )\n",
    "        h_data[ind].append(ex)\n",
    "    ind += 1\n",
    "        \n",
    "#print(h_data)\n",
    "inp = []\n",
    "inputs = []\n",
    "outputs = []\n",
    "for i in range(50):\n",
    "    for j in range(5):\n",
    "        inputs = []\n",
    "        output = [0]*5\n",
    "        #inputs.append(zcr_data[j][i])\n",
    "        inputs.append(h_data[j][i])\n",
    "        output[j] = 1\n",
    "        outputs.append(output)\n",
    "        inp.append(np.array(h_data[j][i]))\n",
    "        # for k in range(5):\n",
    "        #    if k != j:\n",
    "         #       outputs[k].append(0)\n",
    "# print(inp)\n",
    "inp = np.array(inp)\n",
    "print(inp)\n",
    "output = np.array(outputs)\n",
    "print(output)\n",
    "test_inp = np.array([inp[2]])\n",
    "nn.initialize_network(inp.T.shape[0], output.T.shape[0], 2, 5)\n",
    "nn.train_network(inp.T, output.T, nn.update_weights, 50, 0.01)\n",
    "real = nn.predict_network(inp.T, nn.logistic)\n",
    "cm = get_confusion_matrix(real.T, output, output.T.shape[0])\n",
    "print(cm)"
   ]
  }
 ],
 "metadata": {
  "kernelspec": {
   "display_name": "Python 3",
   "language": "python",
   "name": "python3"
  },
  "language_info": {
   "codemirror_mode": {
    "name": "ipython",
    "version": 3
   },
   "file_extension": ".py",
   "mimetype": "text/x-python",
   "name": "python",
   "nbconvert_exporter": "python",
   "pygments_lexer": "ipython3",
   "version": "3.4.1"
  }
 },
 "nbformat": 4,
 "nbformat_minor": 0
}
