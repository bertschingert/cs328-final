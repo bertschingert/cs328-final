{
 "cells": [
  {
   "cell_type": "code",
   "execution_count": 25,
   "metadata": {
    "collapsed": true
   },
   "outputs": [],
   "source": [
    "import audio_processing as ap\n",
    "import audio_utils as au\n",
    "import prototype as pr\n",
    "import math\n",
    "import numpy.fft as fft\n",
    "import numpy as np\n",
    "import matplotlib.pyplot as plt\n",
    "%matplotlib inline\n",
    "\n",
    "instrs = [\"guitar\", \"clarinet\", \"flute\", \"saxophone\", \"violin\"]"
   ]
  },
  {
   "cell_type": "code",
   "execution_count": 30,
   "metadata": {
    "collapsed": false,
    "scrolled": true
   },
   "outputs": [
    {
     "name": "stdout",
     "output_type": "stream",
     "text": [
      "[[ 1.          0.09854176  0.12267083  0.17575874  0.18015025  0.21846029\n",
      "   0.18708441  0.24378326]\n",
      " [ 1.          0.0018178   0.00184637  0.00180747  0.00187048  0.00187077\n",
      "   0.00174611  0.00193864]\n",
      " [ 1.          0.05749046  0.04627587  0.03685894  0.03542063  0.03864822\n",
      "   0.03609048  0.03916336]\n",
      " [ 1.          0.00502223  0.00537474  0.00445526  0.00404386  0.00334559\n",
      "   0.00284447  0.00362899]\n",
      " [ 1.          0.05308918  0.04507265  0.03393457  0.03121332  0.03255566\n",
      "   0.02535387  0.02753111]]\n"
     ]
    }
   ],
   "source": [
    "prototypes = []\n",
    "exemplars = []\n",
    "ind = 0\n",
    "for instr in instrs:\n",
    "    exemplars.append([])\n",
    "    infile = open(\"reps/\" + instr + \"_harmonics.txt\", 'r')\n",
    "    for line in infile:\n",
    "        ex = []\n",
    "        for i in line.split(','):\n",
    "            ex.append( float(i.strip()) )\n",
    "        exemplars[ind].append(ex)\n",
    "    infile.close()\n",
    "    p = pr.create_prototype(exemplars[ind])\n",
    "    prototypes.append(p)\n",
    "    ind += 1\n",
    "print(np.array(prototypes) )\n",
    "    "
   ]
  },
  {
   "cell_type": "code",
   "execution_count": 36,
   "metadata": {
    "collapsed": false
   },
   "outputs": [],
   "source": [
    "def euclid_d(a, b):\n",
    "    d = 0\n",
    "    for i in range(len(a)):\n",
    "        d += (a[i] - b[i])**2\n",
    "    return math.sqrt(d)\n",
    "\n",
    "def predict(example, prototypes):\n",
    "    ds = []\n",
    "    for p in prototypes:\n",
    "        ds.append(euclid_d(example, p))\n",
    "    return np.argmin(ds)"
   ]
  },
  {
   "cell_type": "code",
   "execution_count": 43,
   "metadata": {
    "collapsed": false,
    "scrolled": true
   },
   "outputs": [],
   "source": [
    "guesses = []\n",
    "\n",
    "for i in range(5):\n",
    "    guesses.append([])\n",
    "    for ex in exemplars[i]:\n",
    "        guess = predict(ex, prototypes)\n",
    "        guesses[i].append(guess)"
   ]
  },
  {
   "cell_type": "code",
   "execution_count": 50,
   "metadata": {
    "collapsed": false
   },
   "outputs": [
    {
     "name": "stdout",
     "output_type": "stream",
     "text": [
      "0.7183098591549296\n",
      "0.8571428571428571\n",
      "0.06914212548015365\n",
      "0.10628019323671498\n",
      "0.12319644839067703\n",
      "[53, 137, 116, 484, 111]\n"
     ]
    }
   ],
   "source": [
    "for i in range(len(guesses)):\n",
    "    correct = 0\n",
    "    tot = len(guesses[i])\n",
    "    for j in guesses[i]:\n",
    "        if j == i:\n",
    "            correct += 1\n",
    "    print(correct / tot)\n",
    "    \n",
    "a = [0,0,0,0,0]\n",
    "for i in guesses[4]:\n",
    "    a[i] += 1\n",
    "print(a)"
   ]
  },
  {
   "cell_type": "code",
   "execution_count": null,
   "metadata": {
    "collapsed": true
   },
   "outputs": [],
   "source": []
  }
 ],
 "metadata": {
  "kernelspec": {
   "display_name": "Python 3",
   "language": "python",
   "name": "python3"
  },
  "language_info": {
   "codemirror_mode": {
    "name": "ipython",
    "version": 3
   },
   "file_extension": ".py",
   "mimetype": "text/x-python",
   "name": "python",
   "nbconvert_exporter": "python",
   "pygments_lexer": "ipython3",
   "version": "3.4.1"
  }
 },
 "nbformat": 4,
 "nbformat_minor": 0
}
