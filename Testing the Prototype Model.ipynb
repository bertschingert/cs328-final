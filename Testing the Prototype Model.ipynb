{
 "cells": [
  {
   "cell_type": "code",
   "execution_count": 1,
   "metadata": {
    "collapsed": false
   },
   "outputs": [],
   "source": [
    "import audio_processing as ap\n",
    "import audio_utils as au\n",
    "import prototype as pr\n",
    "import math\n",
    "import numpy.fft as fft\n",
    "import numpy as np\n",
    "import matplotlib.pyplot as plt\n",
    "%matplotlib inline\n",
    "\n",
    "instrs = [\"guitar\", \"clarinet\", \"flute\", \"saxophone\", \"violin\"]"
   ]
  },
  {
   "cell_type": "code",
   "execution_count": 2,
   "metadata": {
    "collapsed": false,
    "scrolled": true
   },
   "outputs": [
    {
     "name": "stdout",
     "output_type": "stream",
     "text": [
      "[[ 1.          0.09854176  0.12267083  0.17575874  0.18015025  0.21846029\n",
      "   0.18708441  0.24378326]\n",
      " [ 1.          0.0018178   0.00184637  0.00180747  0.00187048  0.00187077\n",
      "   0.00174611  0.00193864]\n",
      " [ 1.          0.05749046  0.04627587  0.03685894  0.03542063  0.03864822\n",
      "   0.03609048  0.03916336]\n",
      " [ 1.          0.00502223  0.00537474  0.00445526  0.00404386  0.00334559\n",
      "   0.00284447  0.00362899]\n",
      " [ 1.          0.05308918  0.04507265  0.03393457  0.03121332  0.03255566\n",
      "   0.02535387  0.02753111]]\n"
     ]
    }
   ],
   "source": [
    "prototypes = []\n",
    "exemplars = []\n",
    "ind = 0\n",
    "for instr in instrs:\n",
    "    exemplars.append([])\n",
    "    infile = open(\"reps/\" + instr + \"_harmonics.txt\", 'r')\n",
    "    for line in infile:\n",
    "        ex = []\n",
    "        for i in line.split(','):\n",
    "            ex.append( float(i.strip()) )\n",
    "        exemplars[ind].append(ex)\n",
    "    infile.close()\n",
    "    p = pr.create_prototype(exemplars[ind])\n",
    "    prototypes.append(p)\n",
    "    ind += 1\n",
    "print(np.array(prototypes) )\n",
    "    "
   ]
  },
  {
   "cell_type": "code",
   "execution_count": 17,
   "metadata": {
    "collapsed": false
   },
   "outputs": [],
   "source": [
    "def prediction(probs, instrs):\n",
    "    predict_list = []\n",
    "    for i in probs:\n",
    "        predict_list.append(instrs[np.argmax(i)])\n",
    "    return predict_list\n",
    "\n",
    "def frequency(predict_list, desired):\n",
    "    sum = 0\n",
    "    for i in predict_list:\n",
    "        if i == desired:\n",
    "            sum += 1\n",
    "    return sum\n",
    "\n",
    "def freq_list(predict_list, instrs):\n",
    "    list = [0]*len(instrs)\n",
    "    for i in instrs:\n",
    "        for j in predict_list:\n",
    "            if j == i:\n",
    "                list[i] += 1\n",
    "    return list\n",
    "\n",
    "def confusion_matrix (probs_list, instrs, outp_length):\n",
    "    \"\"\"Gets confusion matrix for a networks output.\"\"\"\n",
    "    confusion = np.zeros((outp_length, outp_length))\n",
    "    for indx in range(len(probs_list)):\n",
    "        # print(desired[indx])\n",
    "        i = indx\n",
    "        # print(actual[indx])\n",
    "        #print(probs_list[indx])\n",
    "        for k in probs_list[indx]:\n",
    "            j = np.argmax(k)\n",
    "            confusion[i][j] += 1\n",
    "    return confusion\n",
    "\n",
    "def print_cc_info(cc, data_length, categories):\n",
    "    sum1, sum2 = 0, 0\n",
    "    class_list = []\n",
    "    for i in range(len(cc)):\n",
    "        for j in range(len(cc[i])):\n",
    "            if j == i: \n",
    "                sum1 += cc[i][j]\n",
    "                class_list.append(cc[i][j])\n",
    "            sum2 += cc[i][j]\n",
    "    print(\"This NN got correct \", sum1, \" out of \", sum2, \" tests\")\n",
    "    print(\"which is \", str(sum1/sum2)[:5])\n",
    "    print(categories)\n",
    "    for i in range(len(categories)):\n",
    "        print(\"For\", categories[i], \", This NN classified\", class_list[i], \" out of \", data_length)\n",
    "        print(\"which is \", str(class_list[i]/data_length)[:5])"
   ]
  },
  {
   "cell_type": "code",
   "execution_count": 4,
   "metadata": {
    "collapsed": false,
    "scrolled": true
   },
   "outputs": [
    {
     "ename": "NameError",
     "evalue": "name 'predict' is not defined",
     "output_type": "error",
     "traceback": [
      "\u001b[0;31m---------------------------------------------------------------------------\u001b[0m",
      "\u001b[0;31mNameError\u001b[0m                                 Traceback (most recent call last)",
      "\u001b[0;32m<ipython-input-4-981467380ece>\u001b[0m in \u001b[0;36m<module>\u001b[0;34m()\u001b[0m\n\u001b[1;32m      4\u001b[0m     \u001b[0mguesses\u001b[0m\u001b[0;34m.\u001b[0m\u001b[0mappend\u001b[0m\u001b[0;34m(\u001b[0m\u001b[0;34m[\u001b[0m\u001b[0;34m]\u001b[0m\u001b[0;34m)\u001b[0m\u001b[0;34m\u001b[0m\u001b[0m\n\u001b[1;32m      5\u001b[0m     \u001b[0;32mfor\u001b[0m \u001b[0mex\u001b[0m \u001b[0;32min\u001b[0m \u001b[0mexemplars\u001b[0m\u001b[0;34m[\u001b[0m\u001b[0mi\u001b[0m\u001b[0;34m]\u001b[0m\u001b[0;34m:\u001b[0m\u001b[0;34m\u001b[0m\u001b[0m\n\u001b[0;32m----> 6\u001b[0;31m         \u001b[0mguess\u001b[0m \u001b[0;34m=\u001b[0m \u001b[0mpredict\u001b[0m\u001b[0;34m(\u001b[0m\u001b[0mex\u001b[0m\u001b[0;34m,\u001b[0m \u001b[0mprototypes\u001b[0m\u001b[0;34m)\u001b[0m\u001b[0;34m\u001b[0m\u001b[0m\n\u001b[0m\u001b[1;32m      7\u001b[0m         \u001b[0mguesses\u001b[0m\u001b[0;34m[\u001b[0m\u001b[0mi\u001b[0m\u001b[0;34m]\u001b[0m\u001b[0;34m.\u001b[0m\u001b[0mappend\u001b[0m\u001b[0;34m(\u001b[0m\u001b[0mguess\u001b[0m\u001b[0;34m)\u001b[0m\u001b[0;34m\u001b[0m\u001b[0m\n",
      "\u001b[0;31mNameError\u001b[0m: name 'predict' is not defined"
     ]
    }
   ],
   "source": [
    "guesses = []\n",
    "\n",
    "for i in range(5):\n",
    "    guesses.append([])\n",
    "    for ex in exemplars[i]:\n",
    "        guess = predict(ex, prototypes)\n",
    "        guesses[i].append(guess)"
   ]
  },
  {
   "cell_type": "code",
   "execution_count": 5,
   "metadata": {
    "collapsed": false
   },
   "outputs": [
    {
     "ename": "ZeroDivisionError",
     "evalue": "division by zero",
     "output_type": "error",
     "traceback": [
      "\u001b[0;31m---------------------------------------------------------------------------\u001b[0m",
      "\u001b[0;31mZeroDivisionError\u001b[0m                         Traceback (most recent call last)",
      "\u001b[0;32m<ipython-input-5-4b16480c8fe3>\u001b[0m in \u001b[0;36m<module>\u001b[0;34m()\u001b[0m\n\u001b[1;32m      5\u001b[0m         \u001b[0;32mif\u001b[0m \u001b[0mj\u001b[0m \u001b[0;34m==\u001b[0m \u001b[0mi\u001b[0m\u001b[0;34m:\u001b[0m\u001b[0;34m\u001b[0m\u001b[0m\n\u001b[1;32m      6\u001b[0m             \u001b[0mcorrect\u001b[0m \u001b[0;34m+=\u001b[0m \u001b[0;36m1\u001b[0m\u001b[0;34m\u001b[0m\u001b[0m\n\u001b[0;32m----> 7\u001b[0;31m     \u001b[0mprint\u001b[0m\u001b[0;34m(\u001b[0m\u001b[0mcorrect\u001b[0m \u001b[0;34m/\u001b[0m \u001b[0mtot\u001b[0m\u001b[0;34m)\u001b[0m\u001b[0;34m\u001b[0m\u001b[0m\n\u001b[0m\u001b[1;32m      8\u001b[0m \u001b[0;34m\u001b[0m\u001b[0m\n\u001b[1;32m      9\u001b[0m \u001b[0ma\u001b[0m \u001b[0;34m=\u001b[0m \u001b[0;34m[\u001b[0m\u001b[0;36m0\u001b[0m\u001b[0;34m,\u001b[0m\u001b[0;36m0\u001b[0m\u001b[0;34m,\u001b[0m\u001b[0;36m0\u001b[0m\u001b[0;34m,\u001b[0m\u001b[0;36m0\u001b[0m\u001b[0;34m,\u001b[0m\u001b[0;36m0\u001b[0m\u001b[0;34m]\u001b[0m\u001b[0;34m\u001b[0m\u001b[0m\n",
      "\u001b[0;31mZeroDivisionError\u001b[0m: division by zero"
     ]
    }
   ],
   "source": [
    "for i in range(len(guesses)):\n",
    "    correct = 0\n",
    "    tot = len(guesses[i])\n",
    "    for j in guesses[i]:\n",
    "        if j == i:\n",
    "            correct += 1\n",
    "    print(correct / tot)\n",
    "    \n",
    "a = [0,0,0,0,0]\n",
    "for i in guesses[4]:\n",
    "    a[i] += 1\n",
    "print(a)"
   ]
  },
  {
   "cell_type": "code",
   "execution_count": 25,
   "metadata": {
    "collapsed": false
   },
   "outputs": [
    {
     "name": "stdout",
     "output_type": "stream",
     "text": [
      "['flute', 'guitar', 'saxophone', 'guitar', 'guitar', 'guitar', 'flute', 'guitar', 'guitar', 'guitar', 'flute', 'guitar', 'flute', 'flute', 'flute', 'guitar', 'guitar', 'guitar', 'flute', 'violin', 'guitar', 'guitar', 'flute', 'guitar', 'guitar', 'flute', 'guitar', 'guitar', 'flute', 'flute', 'guitar', 'guitar', 'guitar', 'guitar', 'guitar', 'guitar', 'guitar', 'guitar', 'guitar', 'guitar', 'guitar', 'guitar', 'guitar', 'guitar', 'guitar', 'violin', 'guitar', 'flute', 'guitar', 'guitar', 'guitar', 'guitar', 'guitar', 'violin', 'guitar', 'guitar', 'guitar', 'flute', 'guitar', 'guitar', 'guitar', 'guitar', 'flute', 'flute', 'flute', 'guitar', 'guitar', 'guitar', 'guitar', 'guitar', 'guitar']\n",
      "[0, 0, 0, 0, 0, 0]\n"
     ]
    },
    {
     "ename": "AssertionError",
     "evalue": "incompatible sizes: argument 'height' must be length 6 or scalar",
     "output_type": "error",
     "traceback": [
      "\u001b[0;31m---------------------------------------------------------------------------\u001b[0m",
      "\u001b[0;31mAssertionError\u001b[0m                            Traceback (most recent call last)",
      "\u001b[0;32m<ipython-input-25-ed4499d6831d>\u001b[0m in \u001b[0;36m<module>\u001b[0;34m()\u001b[0m\n\u001b[1;32m     29\u001b[0m \u001b[0mprint\u001b[0m\u001b[0;34m(\u001b[0m\u001b[0mguitar_f\u001b[0m\u001b[0;34m)\u001b[0m\u001b[0;34m\u001b[0m\u001b[0m\n\u001b[1;32m     30\u001b[0m \u001b[0;34m\u001b[0m\u001b[0m\n\u001b[0;32m---> 31\u001b[0;31m \u001b[0mplt\u001b[0m\u001b[0;34m.\u001b[0m\u001b[0mbar\u001b[0m\u001b[0;34m(\u001b[0m\u001b[0minstr\u001b[0m\u001b[0;34m,\u001b[0m \u001b[0mstr\u001b[0m\u001b[0;34m(\u001b[0m\u001b[0mguitar_f\u001b[0m\u001b[0;34m)\u001b[0m\u001b[0;34m,\u001b[0m \u001b[0mwidth\u001b[0m\u001b[0;34m=\u001b[0m\u001b[0;36m.8\u001b[0m\u001b[0;34m,\u001b[0m \u001b[0mcolor\u001b[0m\u001b[0;34m=\u001b[0m\u001b[0;34m'g'\u001b[0m\u001b[0;34m)\u001b[0m\u001b[0;34m\u001b[0m\u001b[0m\n\u001b[0m\u001b[1;32m     32\u001b[0m \u001b[0;34m\u001b[0m\u001b[0m\n\u001b[1;32m     33\u001b[0m \u001b[0mplt\u001b[0m\u001b[0;34m.\u001b[0m\u001b[0mylabel\u001b[0m\u001b[0;34m(\u001b[0m\u001b[0;34m'SSE'\u001b[0m\u001b[0;34m)\u001b[0m\u001b[0;34m\u001b[0m\u001b[0m\n",
      "\u001b[0;32m/Library/Frameworks/Python.framework/Versions/3.4/lib/python3.4/site-packages/matplotlib/pyplot.py\u001b[0m in \u001b[0;36mbar\u001b[0;34m(left, height, width, bottom, hold, **kwargs)\u001b[0m\n\u001b[1;32m   2566\u001b[0m         \u001b[0max\u001b[0m\u001b[0;34m.\u001b[0m\u001b[0mhold\u001b[0m\u001b[0;34m(\u001b[0m\u001b[0mhold\u001b[0m\u001b[0;34m)\u001b[0m\u001b[0;34m\u001b[0m\u001b[0m\n\u001b[1;32m   2567\u001b[0m     \u001b[0;32mtry\u001b[0m\u001b[0;34m:\u001b[0m\u001b[0;34m\u001b[0m\u001b[0m\n\u001b[0;32m-> 2568\u001b[0;31m         \u001b[0mret\u001b[0m \u001b[0;34m=\u001b[0m \u001b[0max\u001b[0m\u001b[0;34m.\u001b[0m\u001b[0mbar\u001b[0m\u001b[0;34m(\u001b[0m\u001b[0mleft\u001b[0m\u001b[0;34m,\u001b[0m \u001b[0mheight\u001b[0m\u001b[0;34m,\u001b[0m \u001b[0mwidth\u001b[0m\u001b[0;34m=\u001b[0m\u001b[0mwidth\u001b[0m\u001b[0;34m,\u001b[0m \u001b[0mbottom\u001b[0m\u001b[0;34m=\u001b[0m\u001b[0mbottom\u001b[0m\u001b[0;34m,\u001b[0m \u001b[0;34m**\u001b[0m\u001b[0mkwargs\u001b[0m\u001b[0;34m)\u001b[0m\u001b[0;34m\u001b[0m\u001b[0m\n\u001b[0m\u001b[1;32m   2569\u001b[0m         \u001b[0mdraw_if_interactive\u001b[0m\u001b[0;34m(\u001b[0m\u001b[0;34m)\u001b[0m\u001b[0;34m\u001b[0m\u001b[0m\n\u001b[1;32m   2570\u001b[0m     \u001b[0;32mfinally\u001b[0m\u001b[0;34m:\u001b[0m\u001b[0;34m\u001b[0m\u001b[0m\n",
      "\u001b[0;32m/Library/Frameworks/Python.framework/Versions/3.4/lib/python3.4/site-packages/matplotlib/axes/_axes.py\u001b[0m in \u001b[0;36mbar\u001b[0;34m(self, left, height, width, bottom, **kwargs)\u001b[0m\n\u001b[1;32m   1989\u001b[0m         assert len(height) == nbars, (\"incompatible sizes: argument 'height' \"\n\u001b[1;32m   1990\u001b[0m                                       \u001b[0;34m\"must be length %d or scalar\"\u001b[0m \u001b[0;34m%\u001b[0m\u001b[0;34m\u001b[0m\u001b[0m\n\u001b[0;32m-> 1991\u001b[0;31m                                       nbars)\n\u001b[0m\u001b[1;32m   1992\u001b[0m         assert len(width) == nbars, (\"incompatible sizes: argument 'width' \"\n\u001b[1;32m   1993\u001b[0m                                      \u001b[0;34m\"must be length %d or scalar\"\u001b[0m \u001b[0;34m%\u001b[0m\u001b[0;34m\u001b[0m\u001b[0m\n",
      "\u001b[0;31mAssertionError\u001b[0m: incompatible sizes: argument 'height' must be length 6 or scalar"
     ]
    },
    {
     "data": {
      "image/png": "[encoded data removed]",
      "text/plain": [
       "<matplotlib.figure.Figure at 0x107315b38>"
      ]
     },
     "metadata": {},
     "output_type": "display_data"
    }
   ],
   "source": [
    "h_data = []\n",
    "instrs = [\"guitar\", \"clarinet\", \"flute\", \"saxophone\", \"violin\"]\n",
    "ind = 0\n",
    "for instr in instrs:\n",
    "    h_data.append([])\n",
    "    infile = open(\"reps/\" + instr + \"_harmonics.txt\", 'r')\n",
    "    for line in infile:\n",
    "        ex = []\n",
    "        for i in line.split(','):\n",
    "            ex.append( float(i.strip()) )\n",
    "        h_data[ind].append(ex)\n",
    "    ind += 1\n",
    "    \n",
    "proto_list = []\n",
    "for i in h_data:\n",
    "    proto_list.append(pr.create_prototype(i))\n",
    "probs_list = []  \n",
    "for h in h_data:\n",
    "    probs_list.append(pr.prototype_model(h, proto_list, pr.euclid_d))\n",
    "    \n",
    "    \n",
    "    \n",
    "    \n",
    "#for i in range(5):\n",
    "print(prediction(probs_list[0], instrs))\n",
    "    \n",
    "guitar_f = freq_list(prediction(probs_list[0], instrs), \"guitar\")\n",
    "\n",
    "print(guitar_f)\n",
    "\n",
    "plt.bar(instr, str(guitar_f), width=.8, color='g')\n",
    "\n",
    "plt.ylabel('SSE')\n",
    "plt.title('SSE for Elman Network Outputs')\n",
    "\n",
    "plt.xticks(tick_locations, tick_names)\n",
    "plt.show()\n",
    "\n",
    "\n",
    "\n",
    "cm = confusion_matrix(probs_list, instrs, 5)\n",
    "print(cm)\n"
   ]
  },
  {
   "cell_type": "code",
   "execution_count": 18,
   "metadata": {
    "collapsed": false
   },
   "outputs": [
    {
     "ename": "FileNotFoundError",
     "evalue": "[Errno 2] No such file or directory: 'reps/guitar_nflux.txt'",
     "output_type": "error",
     "traceback": [
      "\u001b[0;31m---------------------------------------------------------------------------\u001b[0m",
      "\u001b[0;31mFileNotFoundError\u001b[0m                         Traceback (most recent call last)",
      "\u001b[0;32m<ipython-input-18-27bb0b776391>\u001b[0m in \u001b[0;36m<module>\u001b[0;34m()\u001b[0m\n\u001b[1;32m      5\u001b[0m \u001b[0;32mfor\u001b[0m \u001b[0minstr\u001b[0m \u001b[0;32min\u001b[0m \u001b[0minstrs\u001b[0m\u001b[0;34m:\u001b[0m\u001b[0;34m\u001b[0m\u001b[0m\n\u001b[1;32m      6\u001b[0m     \u001b[0mf_data\u001b[0m\u001b[0;34m.\u001b[0m\u001b[0mappend\u001b[0m\u001b[0;34m(\u001b[0m\u001b[0;34m[\u001b[0m\u001b[0;34m]\u001b[0m\u001b[0;34m)\u001b[0m\u001b[0;34m\u001b[0m\u001b[0m\n\u001b[0;32m----> 7\u001b[0;31m     \u001b[0minfile\u001b[0m \u001b[0;34m=\u001b[0m \u001b[0mopen\u001b[0m\u001b[0;34m(\u001b[0m\u001b[0;34m\"reps/\"\u001b[0m \u001b[0;34m+\u001b[0m \u001b[0minstr\u001b[0m \u001b[0;34m+\u001b[0m \u001b[0;34m\"_nflux.txt\"\u001b[0m\u001b[0;34m,\u001b[0m \u001b[0;34m'r'\u001b[0m\u001b[0;34m)\u001b[0m\u001b[0;34m\u001b[0m\u001b[0m\n\u001b[0m\u001b[1;32m      8\u001b[0m     \u001b[0;32mfor\u001b[0m \u001b[0mline\u001b[0m \u001b[0;32min\u001b[0m \u001b[0minfile\u001b[0m\u001b[0;34m:\u001b[0m\u001b[0;34m\u001b[0m\u001b[0m\n\u001b[1;32m      9\u001b[0m         \u001b[0mex\u001b[0m \u001b[0;34m=\u001b[0m \u001b[0;34m[\u001b[0m\u001b[0;34m]\u001b[0m\u001b[0;34m\u001b[0m\u001b[0m\n",
      "\u001b[0;31mFileNotFoundError\u001b[0m: [Errno 2] No such file or directory: 'reps/guitar_nflux.txt'"
     ]
    }
   ],
   "source": [
    "f_data = []\n",
    "instrs = [\"guitar\", \"clarinet\", \"flute\", \"saxophone\", \"violin\"]\n",
    "ind = 0\n",
    "\n",
    "for instr in instrs:\n",
    "    f_data.append([])\n",
    "    infile = open(\"reps/\" + instr + \"_nflux.txt\", 'r')\n",
    "    for line in infile:\n",
    "        ex = []\n",
    "        for i in line.split(','):\n",
    "            ex.append( float(i.strip()) )\n",
    "        f_data[ind].append(ex)\n",
    "    ind += 1\n",
    "\n",
    "    \n",
    "proto_list = []\n",
    "for i in f_data:\n",
    "    proto_list.append(pr.create_prototype(i))\n",
    "print(proto_list)\n",
    "probs_list = []  \n",
    "for f in f_data:\n",
    "    probs_list.append(pr.euclid_d_prototype_model(f, proto_list, pr.euclid_d))\n",
    "    \n",
    "    \n",
    "\n",
    "    \n",
    "cm = confusion_matrix(probs_list, instrs, 5)\n",
    "print(cm)\n",
    "print_cc_info(cm, 100, instr)"
   ]
  },
  {
   "cell_type": "code",
   "execution_count": null,
   "metadata": {
    "collapsed": true
   },
   "outputs": [],
   "source": []
  }
 ],
 "metadata": {
  "kernelspec": {
   "display_name": "Python 3",
   "language": "python",
   "name": "python3"
  },
  "language_info": {
   "codemirror_mode": {
    "name": "ipython",
    "version": 3
   },
   "file_extension": ".py",
   "mimetype": "text/x-python",
   "name": "python",
   "nbconvert_exporter": "python",
   "pygments_lexer": "ipython3",
   "version": "3.4.1"
  }
 },
 "nbformat": 4,
 "nbformat_minor": 0
}
