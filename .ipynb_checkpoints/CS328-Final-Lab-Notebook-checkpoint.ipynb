{
 "cells": [
  {
   "cell_type": "code",
   "execution_count": 1,
   "metadata": {
    "collapsed": true
   },
   "outputs": [],
   "source": [
    "import audio_processing as ap\n",
    "import audio_utils as au\n",
    "import math\n",
    "import numpy.fft as fft\n",
    "import matplotlib.pyplot as plt\n",
    "%matplotlib inline"
   ]
  },
  {
   "cell_type": "markdown",
   "metadata": {},
   "source": [
    "# CS 328 Final Project\n",
    "## Thomas Bertschinger and Sanders McMillan\n",
    "### Lab Notebook\n",
    "\n",
    "### Tuesday, April 26, 2016 **(joint entry)**\n",
    "\n",
    "Our final project will (likely) be *model* focused rather than experiment focused. We will \"implemenet computational model(s) and compare results to existing human data.\" In this case, the human data will be musical compositions created by humans (*e.g.* Bach fugues) and our model will be a system that \"composes\" music (perhaps learning from human compositions). \n",
    "\n",
    "We set up a bibliography using Latex and BibTex, and a git repository to keep track of our code and materials. \n",
    "\n",
    "https://github.com/bertschingert/cs328-final/tree/master/references"
   ]
  },
  {
   "cell_type": "markdown",
   "metadata": {},
   "source": [
    "### Wednesday, April 27, 2016 (joint entry)\n",
    "\n",
    "We are thinking about doing a signal-processing based model that creates a representation of a signal and can classify the signal into categories such as instrument family, voice, etc. We will need to create a representation of audio sound in a (hopefully) small number of dimensions that includes enough relevant information so that we can classify a sound into a category such as brass versus string instrument, for example. \n",
    "\n",
    "The representation will likely include attributes such as attack and decay time of the waveform; the spectrum at various points in time; how much the spectrum changes over time; irregularities in the spectrum. \n",
    "\n",
    "Our model will ideally be able to classify instruments correctly at different amplitudes and pitches. It would also be important to limit the model to audio information that humans can actually percieve. (For example, it wouldn't make sense for our model to take into account frequences substantially above 20,000Hz because humans cannot hear that high.) \n",
    "\n",
    "Being able to pull out the relevant information from an audio signal is important because it will help us understand how humans can do things such as distinguish different people's voices. We know probably hundreds of different voices that we can identify from only a few words of speech. This is also important for being able to recognize different instruments present in a single audio signal. \n",
    "\n",
    "We think it would be plausible to create a neural network to identify different audio signals. We will first take an audio signal and use tools such as the discrete Fourier transform to create a suitable representation of the signal that omits extraneous information or information that humans cannot perciever. Then, we train a neural network to be able to identify, from the features of the representation, what category the signal belongs to. \n",
    "\n",
    "Theoretically, our model will be grounded in the similarity models learned earlier in this course, in addition to Gibsonian and Gestalt principles of perceiving invariants in stimuli and grouping similar and proximal stimuli as belonging to the same perceptual unit (e.g. being able to classify a signal as being of a certain category regardless of it's amplitude and signal, and classifying/perceiving similar successive waveforms as being from the same instrument). It will also involve the place and time theories for how humans transform air pressure hitting the ear into an auditory representation (which is where our Fourier transform and representation stages come in). "
   ]
  },
  {
   "cell_type": "markdown",
   "metadata": {
    "collapsed": true
   },
   "source": [
    "### Monday, May 16, 2016 (joint entry)\n",
    "\n",
    "We have written some code to do basic audio processing (FFT). We are also starting to create the NN..\n",
    "\n",
    "In order to keep the neural network consistent, we will have the option to save weights and biases to a text file so that they can be loaded. "
   ]
  },
  {
   "cell_type": "code",
   "execution_count": 2,
   "metadata": {
    "collapsed": false
   },
   "outputs": [
    {
     "ename": "FileNotFoundError",
     "evalue": "[Errno 2] No such file or directory: 'audio_files/violin-a440.raw'",
     "output_type": "error",
     "traceback": [
      "\u001b[0;31m---------------------------------------------------------------------------\u001b[0m",
      "\u001b[0;31mFileNotFoundError\u001b[0m                         Traceback (most recent call last)",
      "\u001b[0;32m<ipython-input-2-9097abe804ca>\u001b[0m in \u001b[0;36m<module>\u001b[0;34m()\u001b[0m\n\u001b[0;32m----> 1\u001b[0;31m \u001b[0mleft\u001b[0m\u001b[0;34m,\u001b[0m \u001b[0mright\u001b[0m \u001b[0;34m=\u001b[0m \u001b[0mau\u001b[0m\u001b[0;34m.\u001b[0m\u001b[0mread_raw_stereo\u001b[0m\u001b[0;34m(\u001b[0m\u001b[0;34m\"audio_files/violin-a440.raw\"\u001b[0m\u001b[0;34m)\u001b[0m\u001b[0;34m\u001b[0m\u001b[0m\n\u001b[0m\u001b[1;32m      2\u001b[0m \u001b[0mchunk\u001b[0m \u001b[0;34m=\u001b[0m \u001b[0mleft\u001b[0m\u001b[0;34m[\u001b[0m\u001b[0;34m:\u001b[0m\u001b[0;36m44100\u001b[0m\u001b[0;34m]\u001b[0m\u001b[0;34m\u001b[0m\u001b[0m\n\u001b[1;32m      3\u001b[0m \u001b[0mfreqs\u001b[0m \u001b[0;34m=\u001b[0m \u001b[0mfft\u001b[0m\u001b[0;34m.\u001b[0m\u001b[0mrfft\u001b[0m\u001b[0;34m(\u001b[0m\u001b[0mchunk\u001b[0m\u001b[0;34m)\u001b[0m\u001b[0;34m\u001b[0m\u001b[0m\n\u001b[1;32m      4\u001b[0m \u001b[0mau\u001b[0m\u001b[0;34m.\u001b[0m\u001b[0mgraph_fft\u001b[0m\u001b[0;34m(\u001b[0m\u001b[0mfreqs\u001b[0m\u001b[0;34m[\u001b[0m\u001b[0;34m:\u001b[0m\u001b[0;36m10000\u001b[0m\u001b[0;34m]\u001b[0m\u001b[0;34m)\u001b[0m\u001b[0;34m\u001b[0m\u001b[0m\n",
      "\u001b[0;32m/Accounts/mcmillans/Desktop/Final Project/cs328-final/audio_utils.py\u001b[0m in \u001b[0;36mread_raw_stereo\u001b[0;34m(filename)\u001b[0m\n\u001b[1;32m     71\u001b[0m \u001b[0;34m\u001b[0m\u001b[0m\n\u001b[1;32m     72\u001b[0m \u001b[0;32mdef\u001b[0m \u001b[0mread_raw_stereo\u001b[0m\u001b[0;34m(\u001b[0m\u001b[0mfilename\u001b[0m\u001b[0;34m)\u001b[0m\u001b[0;34m:\u001b[0m\u001b[0;34m\u001b[0m\u001b[0m\n\u001b[0;32m---> 73\u001b[0;31m     \u001b[0mraw_file\u001b[0m \u001b[0;34m=\u001b[0m \u001b[0mopen\u001b[0m\u001b[0;34m(\u001b[0m\u001b[0mfilename\u001b[0m\u001b[0;34m)\u001b[0m\u001b[0;34m\u001b[0m\u001b[0m\n\u001b[0m\u001b[1;32m     74\u001b[0m     \u001b[0mleft\u001b[0m \u001b[0;34m=\u001b[0m \u001b[0;34m[\u001b[0m\u001b[0;34m]\u001b[0m\u001b[0;34m\u001b[0m\u001b[0m\n\u001b[1;32m     75\u001b[0m     \u001b[0mright\u001b[0m \u001b[0;34m=\u001b[0m \u001b[0;34m[\u001b[0m\u001b[0;34m]\u001b[0m\u001b[0;34m\u001b[0m\u001b[0m\n",
      "\u001b[0;31mFileNotFoundError\u001b[0m: [Errno 2] No such file or directory: 'audio_files/violin-a440.raw'"
     ]
    }
   ],
   "source": [
    "left, right = au.read_raw_stereo(\"audio_files/violin-a440.raw\")\n",
    "chunk = left[:44100]\n",
    "freqs = fft.rfft(chunk)\n",
    "au.graph_fft(freqs[:10000])"
   ]
  },
  {
   "cell_type": "markdown",
   "metadata": {},
   "source": [
    "We also started compiling our audio sample library. The audio samples are 1.5 second long clips downloaded from http://www.philharmonia.co.uk/explore/make_music. So far we have 5 different instruments (guitar, saxophone, flute, violin, and trumpet), each at three different pitches (A, C, and E). The octaves of the pitches are different for each instrument as the library did not contain all octaves for each instrument, and each instrument has different pitch restraints."
   ]
  },
  {
   "cell_type": "markdown",
   "metadata": {
    "collapsed": true
   },
   "source": [
    "### Tuesday, May 17, 2016 (joint entry)\n",
    "\n",
    "We are starting to write code that uses the FFT to get some information on the signal, such as attack time. This will be helpful for our representation. We are also starting to implement the neural network. "
   ]
  },
  {
   "cell_type": "markdown",
   "metadata": {},
   "source": [
    "### Saturday, May 21, 2016\n",
    "\n",
    "Created the Hann window function. "
   ]
  },
  {
   "cell_type": "code",
   "execution_count": null,
   "metadata": {
    "collapsed": false
   },
   "outputs": [],
   "source": [
    "test_signal = []\n",
    "for i in range(100):\n",
    "    test_signal.append(1)\n",
    "w = ap.hann_window(test_signal)\n",
    "au.graph_signal(w)"
   ]
  },
  {
   "cell_type": "markdown",
   "metadata": {},
   "source": [
    "Created code to compute the spectral centroid"
   ]
  },
  {
   "cell_type": "code",
   "execution_count": null,
   "metadata": {
    "collapsed": false
   },
   "outputs": [],
   "source": [
    "wave = au.create_sine_wave(440, 1, 1)\n",
    "spectrum = fft.rfft(wave)\n",
    "print(\"before window: spectral centroid is \", ap.get_spectral_centroid(spectrum, 44100))\n",
    "au.graph_fft(spectrum[:500])"
   ]
  },
  {
   "cell_type": "code",
   "execution_count": null,
   "metadata": {
    "collapsed": false
   },
   "outputs": [],
   "source": [
    "w_signal = ap.hann_window(wave)\n",
    "w_spectrum = fft.rfft(w_signal)\n",
    "print(\"after window: spectral centroid is \", ap.get_spectral_centroid(w_spectrum, 44100))\n",
    "au.graph_fft(w_spectrum[:500])"
   ]
  },
  {
   "cell_type": "markdown",
   "metadata": {
    "collapsed": true
   },
   "source": [
    "### Sunday, May 22, 2016\n",
    "\n",
    "Now using the python wave library to read .wav files. Created the function read_wav_mono in audio_utils.py which returns a list of the samples. "
   ]
  },
  {
   "cell_type": "code",
   "execution_count": null,
   "metadata": {
    "collapsed": false
   },
   "outputs": [],
   "source": [
    "f = au.read_wav_mono('audio_files/guitar_A4_very-long_forte_normal.wav')\n",
    "au.graph_signal(f)"
   ]
  },
  {
   "cell_type": "code",
   "execution_count": null,
   "metadata": {
    "collapsed": true
   },
   "outputs": [],
   "source": [
    "step= int(44100 / 4)\n",
    "start = 44100\n",
    "chunk = f[start:start+step]\n",
    "s = fft.rfft(chunk)\n",
    "au.graph_fft(s, 1000)"
   ]
  },
  {
   "cell_type": "code",
   "execution_count": null,
   "metadata": {
    "collapsed": true
   },
   "outputs": [],
   "source": [
    "w = ap.hann_window(chunk)\n",
    "s = fft.rfft(w)\n",
    "au.graph_fft(s, 1000)"
   ]
  },
  {
   "cell_type": "code",
   "execution_count": null,
   "metadata": {
    "collapsed": false
   },
   "outputs": [],
   "source": [
    "s = ap.spectral_flux(f)\n",
    "au.graph_signal(s)"
   ]
  },
  {
   "cell_type": "code",
   "execution_count": null,
   "metadata": {
    "collapsed": false
   },
   "outputs": [],
   "source": [
    "f2 = au.read_wav_mono('audio_files/saxophone_A4_15_forte_normal.wav')\n",
    "au.graph_signal(f2)"
   ]
  },
  {
   "cell_type": "code",
   "execution_count": null,
   "metadata": {
    "collapsed": false
   },
   "outputs": [],
   "source": [
    "s2 = ap.spectral_flux(f2)\n",
    "au.graph_signal(s2)\n",
    "for i in s2:\n",
    "    print(i)"
   ]
  },
  {
   "cell_type": "markdown",
   "metadata": {
    "collapsed": true
   },
   "source": [
    "### Thursday, May 26\n",
    "\n",
    "We finished writing code for our neural network, and are now testing and de-bugging it. Our neural network has an initialize_network function that initializes the weights and nodes of the networks based on input length, the output length, the number of hidden units, and the number of layers of the network. It also has a set_hidden_units function that allows you to set the number of hidden units at any particular hidden layer, and changes the weights accordingly."
   ]
  },
  {
   "cell_type": "code",
   "execution_count": 1,
   "metadata": {
    "collapsed": false
   },
   "outputs": [
    {
     "data": {
      "text/plain": [
       "[array([[ 0.5599593 ,  0.81929245,  0.69734584],\n",
       "        [ 0.52839344,  0.81436471,  0.31040684],\n",
       "        [ 0.26998835,  0.9426677 ,  0.91206163],\n",
       "        [ 0.3846059 ,  0.4841021 ,  0.25108582],\n",
       "        [ 0.16440252,  0.99253417,  0.44435654]]),\n",
       " array([[ 0.74105338,  0.92188151,  0.6220669 ,  0.6008872 ,  0.4127084 ],\n",
       "        [ 0.05920266,  0.96736719,  0.46931475,  0.43694593,  0.30982751],\n",
       "        [ 0.76016594,  0.04243076,  0.21954288,  0.07084662,  0.09584493],\n",
       "        [ 0.28553589,  0.7742617 ,  0.46961238,  0.65248811,  0.86803202],\n",
       "        [ 0.02334341,  0.3972215 ,  0.56654616,  0.46823722,  0.98895861]]),\n",
       " array([[ 0.56282423,  0.18541518,  0.42099715,  0.09886766,  0.25696791],\n",
       "        [ 0.19875029,  0.85971353,  0.91667133,  0.92389787,  0.17476432],\n",
       "        [ 0.68120698,  0.43258241,  0.00272264,  0.42408674,  0.88653392]])]"
      ]
     },
     "execution_count": 1,
     "metadata": {},
     "output_type": "execute_result"
    }
   ],
   "source": [
    "# Testing the initialize network function\n",
    "import neural_net as nn\n",
    "import numpy as np\n",
    "nn.initialize_network(3, 3, 3, 5)"
   ]
  },
  {
   "cell_type": "code",
   "execution_count": 2,
   "metadata": {
    "collapsed": false
   },
   "outputs": [
    {
     "data": {
      "text/plain": [
       "[array([[ 0.39799424,  0.62793221,  0.29727956],\n",
       "        [ 0.15877816,  0.79693319,  0.29573114]]),\n",
       " array([[ 0.62215684,  0.46388083],\n",
       "        [ 0.97464754,  0.6280684 ],\n",
       "        [ 0.69234109,  0.40843317],\n",
       "        [ 0.55254112,  0.43683246],\n",
       "        [ 0.74569403,  0.72463035]]),\n",
       " array([[ 0.56282423,  0.18541518,  0.42099715,  0.09886766,  0.25696791],\n",
       "        [ 0.19875029,  0.85971353,  0.91667133,  0.92389787,  0.17476432],\n",
       "        [ 0.68120698,  0.43258241,  0.00272264,  0.42408674,  0.88653392]])]"
      ]
     },
     "execution_count": 2,
     "metadata": {},
     "output_type": "execute_result"
    }
   ],
   "source": [
    "#Testing the set hidden units function\n",
    "nn.set_hidden_units(1, 2)"
   ]
  },
  {
   "cell_type": "code",
   "execution_count": 3,
   "metadata": {
    "collapsed": false
   },
   "outputs": [
    {
     "name": "stdout",
     "output_type": "stream",
     "text": [
      "[array([[1],\n",
      "       [3],\n",
      "       [1]]), array([[ 0.93797765],\n",
      "       [ 0.96143023]]), array([[ 0.80193211],\n",
      "       [ 0.85873773],\n",
      "       [ 0.83255759],\n",
      "       [ 0.73823751],\n",
      "       [ 0.88927395]]), array([[ 0.89202866],\n",
      "       [ 0.96124405],\n",
      "       [ 0.94701726]])]\n",
      "[array([[2],\n",
      "       [2],\n",
      "       [1]]), array([[ 0.92319085],\n",
      "       [ 0.92942592]]), array([[ 0.79814418],\n",
      "       [ 0.85453225],\n",
      "       [ 0.82930485],\n",
      "       [ 0.73401836],\n",
      "       [ 0.88588723]]), array([[ 0.89153536],\n",
      "       [ 0.96086454],\n",
      "       [ 0.94678226]])]\n",
      "[array([[3],\n",
      "       [1],\n",
      "       [1]]), array([[ 0.90523585],\n",
      "       [ 0.87434337]]), array([[ 0.7922207 ],\n",
      "       [ 0.8479694 ],\n",
      "       [ 0.82432495],\n",
      "       [ 0.72741229],\n",
      "       [ 0.88041477]]), array([[ 0.89073477],\n",
      "       [ 0.96022971],\n",
      "       [ 0.94627304]])]\n",
      "[array([[ 0.39817443,  0.62808715,  0.29736335],\n",
      "       [ 0.15892788,  0.79703696,  0.29579451]]), array([[ 0.62253426,  0.46425788],\n",
      "       [ 0.97492601,  0.62834652],\n",
      "       [ 0.69250128,  0.40859318],\n",
      "       [ 0.55298118,  0.43727213],\n",
      "       [ 0.74597963,  0.72491558]]), array([[ 0.56307559,  0.18568429,  0.42125838,  0.09909878,  0.25724693],\n",
      "       [ 0.19968707,  0.86071646,  0.91764489,  0.92475921,  0.1758042 ],\n",
      "       [ 0.68368593,  0.43523641,  0.00529889,  0.42636607,  0.88928569]])]\n"
     ]
    }
   ],
   "source": [
    "#Testing the update weights function\n",
    "input = np.array([[1,2,3], [3, 2, 1], [1,1,1]])\n",
    "output = np.array([[1, 1, 1], [2,2,2], [3,3,3]])\n",
    "np.array(output)\n",
    "nn.update_weights(input, output, 0.01)\n",
    "print(nn.get_weights())"
   ]
  },
  {
   "cell_type": "code",
   "execution_count": 4,
   "metadata": {
    "collapsed": false
   },
   "outputs": [
    {
     "name": "stdout",
     "output_type": "stream",
     "text": [
      "Iteration:  0\n",
      "[array([[1],\n",
      "       [3],\n",
      "       [1]]), array([[ 0.93802491],\n",
      "       [ 0.96145202]]), array([[ 0.80211716],\n",
      "       [ 0.85884572],\n",
      "       [ 0.83263   ],\n",
      "       [ 0.73849801],\n",
      "       [ 0.88936283]]), array([[ 0.89218147],\n",
      "       [ 0.96145255],\n",
      "       [ 0.94771606]])]\n",
      "[array([[2],\n",
      "       [2],\n",
      "       [1]]), array([[ 0.92325013],\n",
      "       [ 0.92946743]]), array([[ 0.79833121],\n",
      "       [ 0.85464409],\n",
      "       [ 0.82937968],\n",
      "       [ 0.73427996],\n",
      "       [ 0.88597923]]), array([[ 0.89168857],\n",
      "       [ 0.96107428],\n",
      "       [ 0.94747908]])]\n",
      "[array([[3],\n",
      "       [1],\n",
      "       [1]]), array([[ 0.9053096 ],\n",
      "       [ 0.87441782]]), array([[ 0.79241077],\n",
      "       [ 0.84808704],\n",
      "       [ 0.82440325],\n",
      "       [ 0.72767552],\n",
      "       [ 0.88051178]]), array([[ 0.89088868],\n",
      "       [ 0.96044173],\n",
      "       [ 0.94697009]])]\n",
      "Iteration:  1\n",
      "[array([[1],\n",
      "       [3],\n",
      "       [1]]), array([[ 0.93807181],\n",
      "       [ 0.96147365]]), array([[ 0.80230053],\n",
      "       [ 0.85895298],\n",
      "       [ 0.83270248],\n",
      "       [ 0.73875664],\n",
      "       [ 0.88945083]]), array([[ 0.89233364],\n",
      "       [ 0.96165893],\n",
      "       [ 0.94839776]])]\n",
      "[array([[2],\n",
      "       [2],\n",
      "       [1]]), array([[ 0.92330897],\n",
      "       [ 0.92950863]]), array([[ 0.79851655],\n",
      "       [ 0.85475516],\n",
      "       [ 0.82945455],\n",
      "       [ 0.73453968],\n",
      "       [ 0.88607032]]), array([[ 0.89184114],\n",
      "       [ 0.96128189],\n",
      "       [ 0.94815897]])]\n",
      "[array([[3],\n",
      "       [1],\n",
      "       [1]]), array([[ 0.90538279],\n",
      "       [ 0.87449172]]), array([[ 0.79259914],\n",
      "       [ 0.84820389],\n",
      "       [ 0.82448156],\n",
      "       [ 0.72793687],\n",
      "       [ 0.88060784]]), array([[ 0.89104195],\n",
      "       [ 0.96065162],\n",
      "       [ 0.94765032]])]\n",
      "Iteration:  2\n",
      "[array([[1],\n",
      "       [3],\n",
      "       [1]]), array([[ 0.93811835],\n",
      "       [ 0.96149512]]), array([[ 0.80248223],\n",
      "       [ 0.85905951],\n",
      "       [ 0.832775  ],\n",
      "       [ 0.73901341],\n",
      "       [ 0.88953797]]), array([[ 0.89248519],\n",
      "       [ 0.96186322],\n",
      "       [ 0.94906298]])]\n",
      "[array([[2],\n",
      "       [2],\n",
      "       [1]]), array([[ 0.92336737],\n",
      "       [ 0.92954953]]), array([[ 0.79870022],\n",
      "       [ 0.85486548],\n",
      "       [ 0.82952946],\n",
      "       [ 0.73479755],\n",
      "       [ 0.88616052]]), array([[ 0.89199309],\n",
      "       [ 0.96148741],\n",
      "       [ 0.94882252]])]\n",
      "[array([[3],\n",
      "       [1],\n",
      "       [1]]), array([[ 0.90545545],\n",
      "       [ 0.87456508]]), array([[ 0.79278584],\n",
      "       [ 0.84831994],\n",
      "       [ 0.82455988],\n",
      "       [ 0.72819638],\n",
      "       [ 0.88070298]]), array([[ 0.89119459],\n",
      "       [ 0.96085939],\n",
      "       [ 0.94831431]])]\n",
      "Iteration:  3\n",
      "[array([[1],\n",
      "       [3],\n",
      "       [1]]), array([[ 0.93816456],\n",
      "       [ 0.96151644]]), array([[ 0.8026623 ],\n",
      "       [ 0.85916532],\n",
      "       [ 0.83284757],\n",
      "       [ 0.73926835],\n",
      "       [ 0.88962425]]), array([[ 0.89263611],\n",
      "       [ 0.96206545],\n",
      "       [ 0.94971228]])]\n",
      "[array([[2],\n",
      "       [2],\n",
      "       [1]]), array([[ 0.92342533],\n",
      "       [ 0.92959014]]), array([[ 0.79888226],\n",
      "       [ 0.85497506],\n",
      "       [ 0.82960438],\n",
      "       [ 0.7350536 ],\n",
      "       [ 0.88624985]]), array([[ 0.89214441],\n",
      "       [ 0.96169086],\n",
      "       [ 0.94947028]])]\n",
      "[array([[3],\n",
      "       [1],\n",
      "       [1]]), array([[ 0.90552756],\n",
      "       [ 0.87463792]]), array([[ 0.79297089],\n",
      "       [ 0.84843521],\n",
      "       [ 0.82463818],\n",
      "       [ 0.72845407],\n",
      "       [ 0.88079721]]), array([[ 0.89134661],\n",
      "       [ 0.96106508],\n",
      "       [ 0.94896262]])]\n",
      "Iteration:  4\n",
      "[array([[1],\n",
      "       [3],\n",
      "       [1]]), array([[ 0.93821042],\n",
      "       [ 0.9615376 ]]), array([[ 0.80284078],\n",
      "       [ 0.85927042],\n",
      "       [ 0.83292016],\n",
      "       [ 0.73952149],\n",
      "       [ 0.8897097 ]]), array([[ 0.89278642],\n",
      "       [ 0.96226565],\n",
      "       [ 0.95034621]])]\n",
      "[array([[2],\n",
      "       [2],\n",
      "       [1]]), array([[ 0.92348287],\n",
      "       [ 0.92963045]]), array([[ 0.7990627 ],\n",
      "       [ 0.8550839 ],\n",
      "       [ 0.82967931],\n",
      "       [ 0.73530784],\n",
      "       [ 0.88633832]]), array([[ 0.89229511],\n",
      "       [ 0.96189227],\n",
      "       [ 0.95010279]])]\n",
      "[array([[3],\n",
      "       [1],\n",
      "       [1]]), array([[ 0.90559915],\n",
      "       [ 0.87471023]]), array([[ 0.79315432],\n",
      "       [ 0.84854971],\n",
      "       [ 0.82471646],\n",
      "       [ 0.72870995],\n",
      "       [ 0.88089055]]), array([[ 0.891498  ],\n",
      "       [ 0.96126872],\n",
      "       [ 0.94959578]])]\n",
      "Iteration:  5\n",
      "[array([[1],\n",
      "       [3],\n",
      "       [1]]), array([[ 0.93825594],\n",
      "       [ 0.96155861]]), array([[ 0.80301768],\n",
      "       [ 0.85937482],\n",
      "       [ 0.83299277],\n",
      "       [ 0.73977284],\n",
      "       [ 0.88979433]]), array([[ 0.89293611],\n",
      "       [ 0.96246385],\n",
      "       [ 0.95096529]])]\n",
      "[array([[2],\n",
      "       [2],\n",
      "       [1]]), array([[ 0.92353999],\n",
      "       [ 0.92967047]]), array([[ 0.79924156],\n",
      "       [ 0.85519202],\n",
      "       [ 0.82975423],\n",
      "       [ 0.73556031],\n",
      "       [ 0.88642595]]), array([[ 0.8924452 ],\n",
      "       [ 0.96209168],\n",
      "       [ 0.95072057]])]\n",
      "[array([[3],\n",
      "       [1],\n",
      "       [1]]), array([[ 0.90567022],\n",
      "       [ 0.87478203]]), array([[ 0.79333618],\n",
      "       [ 0.84866345],\n",
      "       [ 0.82479472],\n",
      "       [ 0.72896406],\n",
      "       [ 0.88098302]]), array([[ 0.89164877],\n",
      "       [ 0.96147035],\n",
      "       [ 0.95021429]])]\n",
      "Iteration:  6\n",
      "[array([[1],\n",
      "       [3],\n",
      "       [1]]), array([[ 0.93830113],\n",
      "       [ 0.96157947]]), array([[ 0.80319304],\n",
      "       [ 0.85947853],\n",
      "       [ 0.83306538],\n",
      "       [ 0.74002244],\n",
      "       [ 0.88987816]]), array([[ 0.8930852 ],\n",
      "       [ 0.96266008],\n",
      "       [ 0.95157001]])]\n",
      "[array([[2],\n",
      "       [2],\n",
      "       [1]]), array([[ 0.92359669],\n",
      "       [ 0.92971021]]), array([[ 0.79941887],\n",
      "       [ 0.85529942],\n",
      "       [ 0.82982914],\n",
      "       [ 0.73581101],\n",
      "       [ 0.88651276]]), array([[ 0.89259467],\n",
      "       [ 0.96228911],\n",
      "       [ 0.9513241 ]])]\n",
      "[array([[3],\n",
      "       [1],\n",
      "       [1]]), array([[ 0.90574077],\n",
      "       [ 0.87485332]]), array([[ 0.79351647],\n",
      "       [ 0.84877643],\n",
      "       [ 0.82487292],\n",
      "       [ 0.72921641],\n",
      "       [ 0.88107463]]), array([[ 0.89179893],\n",
      "       [ 0.96166998],\n",
      "       [ 0.95081864]])]\n",
      "Iteration:  7\n",
      "[array([[1],\n",
      "       [3],\n",
      "       [1]]), array([[ 0.938346  ],\n",
      "       [ 0.96160018]]), array([[ 0.80336688],\n",
      "       [ 0.85958156],\n",
      "       [ 0.83313799],\n",
      "       [ 0.74027031],\n",
      "       [ 0.8899612 ]]), array([[ 0.89323368],\n",
      "       [ 0.96285436],\n",
      "       [ 0.95216086]])]\n",
      "[array([[2],\n",
      "       [2],\n",
      "       [1]]), array([[ 0.92365298],\n",
      "       [ 0.92974967]]), array([[ 0.79959466],\n",
      "       [ 0.85540611],\n",
      "       [ 0.82990403],\n",
      "       [ 0.73605999],\n",
      "       [ 0.88659877]]), array([[ 0.89274355],\n",
      "       [ 0.96248459],\n",
      "       [ 0.95191387]])]\n",
      "[array([[3],\n",
      "       [1],\n",
      "       [1]]), array([[ 0.90581081],\n",
      "       [ 0.87492412]]), array([[ 0.79369523],\n",
      "       [ 0.84888866],\n",
      "       [ 0.82495108],\n",
      "       [ 0.72946704],\n",
      "       [ 0.8811654 ]]), array([[ 0.89194849],\n",
      "       [ 0.96186764],\n",
      "       [ 0.95140931]])]\n",
      "Iteration:  8\n",
      "[array([[1],\n",
      "       [3],\n",
      "       [1]]), array([[ 0.93839054],\n",
      "       [ 0.96162074]]), array([[ 0.80353924],\n",
      "       [ 0.85968391],\n",
      "       [ 0.83321058],\n",
      "       [ 0.74051646],\n",
      "       [ 0.89004347]]), array([[ 0.89338156],\n",
      "       [ 0.96304673],\n",
      "       [ 0.95273828]])]\n",
      "[array([[2],\n",
      "       [2],\n",
      "       [1]]), array([[ 0.92370887],\n",
      "       [ 0.92978885]]), array([[ 0.79976895],\n",
      "       [ 0.8555121 ],\n",
      "       [ 0.82997888],\n",
      "       [ 0.73630725],\n",
      "       [ 0.88668398]]), array([[ 0.89289182],\n",
      "       [ 0.96267815],\n",
      "       [ 0.95249032]])]\n",
      "[array([[3],\n",
      "       [1],\n",
      "       [1]]), array([[ 0.90588035],\n",
      "       [ 0.87499441]]), array([[ 0.79387249],\n",
      "       [ 0.84900016],\n",
      "       [ 0.82502918],\n",
      "       [ 0.72971595],\n",
      "       [ 0.88125534]]), array([[ 0.89209744],\n",
      "       [ 0.96206338],\n",
      "       [ 0.95198672]])]\n",
      "Iteration:  9\n",
      "[array([[1],\n",
      "       [3],\n",
      "       [1]]), array([[ 0.93843476],\n",
      "       [ 0.96164116]]), array([[ 0.80371012],\n",
      "       [ 0.85978559],\n",
      "       [ 0.83328315],\n",
      "       [ 0.74076092],\n",
      "       [ 0.89012498]]), array([[ 0.89352885],\n",
      "       [ 0.96323721],\n",
      "       [ 0.95330272]])]\n",
      "[array([[2],\n",
      "       [2],\n",
      "       [1]]), array([[ 0.92376435],\n",
      "       [ 0.92982775]]), array([[ 0.79994178],\n",
      "       [ 0.8556174 ],\n",
      "       [ 0.83005369],\n",
      "       [ 0.73655283],\n",
      "       [ 0.88676841]]), array([[ 0.89303949],\n",
      "       [ 0.96286981],\n",
      "       [ 0.95305388]])]\n",
      "[array([[3],\n",
      "       [1],\n",
      "       [1]]), array([[ 0.9059494 ],\n",
      "       [ 0.87506422]]), array([[ 0.79404827],\n",
      "       [ 0.84911092],\n",
      "       [ 0.82510721],\n",
      "       [ 0.72996318],\n",
      "       [ 0.88134448]]), array([[ 0.89224579],\n",
      "       [ 0.9622572 ],\n",
      "       [ 0.95255132]])]\n",
      "[array([[ 0.39991152,  0.62958044,  0.29817094],\n",
      "       [ 0.16037114,  0.7980371 ,  0.29640536]]), array([[ 0.62614117,  0.46786094],\n",
      "       [ 0.97762045,  0.6310373 ],\n",
      "       [ 0.69411572,  0.41020568],\n",
      "       [ 0.55722878,  0.44151547],\n",
      "       [ 0.74869627,  0.72762849]]), array([[ 0.56555617,  0.18833859,  0.42383439,  0.10138111,  0.25999862],\n",
      "       [ 0.20879917,  0.87046674,  0.92710758,  0.93314302,  0.1859122 ],\n",
      "       [ 0.70688748,  0.46006305,  0.0293932 ,  0.44771317,  0.91502311]])]\n"
     ]
    }
   ],
   "source": [
    "(weights, bias) = nn.train_network(input, output, nn.update_weights, 10, 0.01)\n",
    "print(weights)"
   ]
  },
  {
   "cell_type": "code",
   "execution_count": 7,
   "metadata": {
    "collapsed": false
   },
   "outputs": [
    {
     "name": "stdout",
     "output_type": "stream",
     "text": [
      "[array([4, 4, 4]), array([[ 0.99571655,  0.99427577],\n",
      "       [ 0.99660473,  0.99546133]]), array([[ 0.81197707,  0.81175757],\n",
      "       [ 0.86902392,  0.86878128],\n",
      "       [ 0.84072904,  0.84053223],\n",
      "       [ 0.74998167,  0.74973639],\n",
      "       [ 0.8967037 ,  0.89652659]]), array([[ 0.89481278,  0.89478226],\n",
      "       [ 0.96433329,  0.96430916],\n",
      "       [ 0.95473172,  0.95470818]])]\n",
      "[array([4, 4, 4]), array([[ 0.99571655,  0.99427577],\n",
      "       [ 0.99660473,  0.99546133]]), array([[ 0.81197707,  0.81175757],\n",
      "       [ 0.86902392,  0.86878128],\n",
      "       [ 0.84072904,  0.84053223],\n",
      "       [ 0.74998167,  0.74973639],\n",
      "       [ 0.8967037 ,  0.89652659]]), array([[ 0.89481278,  0.89478226],\n",
      "       [ 0.96433329,  0.96430916],\n",
      "       [ 0.95473172,  0.95470818]])]\n",
      "[array([4, 4, 4]), array([[ 0.99571655,  0.99427577],\n",
      "       [ 0.99660473,  0.99546133]]), array([[ 0.81197707,  0.81175757],\n",
      "       [ 0.86902392,  0.86878128],\n",
      "       [ 0.84072904,  0.84053223],\n",
      "       [ 0.74998167,  0.74973639],\n",
      "       [ 0.8967037 ,  0.89652659]]), array([[ 0.89481278,  0.89478226],\n",
      "       [ 0.96433329,  0.96430916],\n",
      "       [ 0.95473172,  0.95470818]])]\n",
      "[[ 0.89481278  0.89478226]\n",
      " [ 0.96433329  0.96430916]\n",
      " [ 0.95473172  0.95470818]]\n"
     ]
    }
   ],
   "source": [
    "inp = np.array([[4,4,4],[4,4,4],[4,4,4]])\n",
    "print(inp[:, [0]])\n",
    "print(nn.predict_network(inp.T, nn.logistic))"
   ]
  },
  {
   "cell_type": "code",
   "execution_count": null,
   "metadata": {
    "collapsed": true
   },
   "outputs": [],
   "source": []
  },
  {
   "cell_type": "code",
   "execution_count": null,
   "metadata": {
    "collapsed": true
   },
   "outputs": [],
   "source": []
  }
 ],
 "metadata": {
  "kernelspec": {
   "display_name": "Python 3",
   "language": "python",
   "name": "python3"
  },
  "language_info": {
   "codemirror_mode": {
    "name": "ipython",
    "version": 3
   },
   "file_extension": ".py",
   "mimetype": "text/x-python",
   "name": "python",
   "nbconvert_exporter": "python",
   "pygments_lexer": "ipython3",
   "version": "3.4.1"
  }
 },
 "nbformat": 4,
 "nbformat_minor": 0
}
